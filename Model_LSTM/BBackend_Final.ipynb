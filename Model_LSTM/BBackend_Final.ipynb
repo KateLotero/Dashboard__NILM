{
  "nbformat": 4,
  "nbformat_minor": 0,
  "metadata": {
    "colab": {
      "name": "BBackend_Final.ipynb",
      "provenance": [],
      "collapsed_sections": [
        "Kd2popXC1ts4",
        "iMaLkUJcYOGp"
      ],
      "toc_visible": true,
      "machine_shape": "hm"
    },
    "kernelspec": {
      "name": "python3",
      "display_name": "Python 3"
    },
    "language_info": {
      "name": "python"
    },
    "accelerator": "GPU",
    "gpuClass": "standard"
  },
  "cells": [
    {
      "cell_type": "markdown",
      "metadata": {
        "id": "Kd2popXC1ts4"
      },
      "source": [
        "## Etapa de preprocesamiento de los datos - Model LSTM_1"
      ]
    },
    {
      "cell_type": "markdown",
      "source": [
        "### Montaje del la unidad Drive institucional."
      ],
      "metadata": {
        "id": "HxlpxG52W7wD"
      }
    },
    {
      "cell_type": "code",
      "metadata": {
        "id": "cueusNMunrrr",
        "colab": {
          "base_uri": "https://localhost:8080/"
        },
        "outputId": "0878090f-99fe-446f-e2f2-c32781c31838"
      },
      "source": [
        "# Neccesary\n",
        "from google.colab import drive\n",
        "drive.mount('/content/drive')"
      ],
      "execution_count": null,
      "outputs": [
        {
          "output_type": "stream",
          "name": "stdout",
          "text": [
            "Drive already mounted at /content/drive; to attempt to forcibly remount, call drive.mount(\"/content/drive\", force_remount=True).\n"
          ]
        }
      ]
    },
    {
      "cell_type": "markdown",
      "source": [
        "### Librerías"
      ],
      "metadata": {
        "id": "E01ti6pPXDxq"
      }
    },
    {
      "cell_type": "code",
      "metadata": {
        "id": "9CXKrWfB04E4"
      },
      "source": [
        "# Neccesary\n",
        "import numpy as np\n",
        "import pandas as pd\n",
        "import matplotlib.pyplot as plt\n",
        "%matplotlib inline\n",
        "from IPython.display import display\n",
        "import datetime\n",
        "import time\n",
        "from time import process_time\n",
        "import math\n",
        "import warnings\n",
        "warnings.filterwarnings(\"ignore\")\n",
        "import glob\n",
        "\n",
        "import tensorflow as tf\n",
        "from tensorflow import keras\n",
        "from keras.layers.core import Dense, Activation, Dropout\n",
        "from keras.layers.recurrent import LSTM\n",
        "from keras.models import Sequential\n",
        "from keras.callbacks import ModelCheckpoint\n",
        "from keras.models import load_model\n",
        "from tensorflow.keras.optimizers import Adam\n",
        "from keras.regularizers import l2\n",
        "from tensorflow.keras import layers\n",
        "from sklearn.metrics import mean_absolute_percentage_error\n",
        "from sklearn.metrics import plot_confusion_matrix"
      ],
      "execution_count": null,
      "outputs": []
    },
    {
      "cell_type": "markdown",
      "metadata": {
        "id": "6b9SVot0YuI4"
      },
      "source": [
        "### Preparación de los datos - REDD para la LSTM\n"
      ]
    },
    {
      "cell_type": "code",
      "metadata": {
        "colab": {
          "base_uri": "https://localhost:8080/"
        },
        "id": "Am9VpsvM099A",
        "outputId": "b2bf87df-cecc-43e8-dd5a-1cdbe79eeeab"
      },
      "source": [
        "# Primero definimos la función read_label(), esta nos permite leer cada etiqueta presente en el archivo .dat de cada casa. \n",
        "def read_label():\n",
        "    label = {}\n",
        "    for i in range(1, 7):\n",
        "        hi = '/content/drive/Shareddrives/TG_NILM/00_Backend/Code_Backend/low_freq/house_{}/labels.dat'.format(i)\n",
        "        label[i] = {}\n",
        "        with open(hi) as f:\n",
        "            for line in f:\n",
        "                splitted_line = line.split(' ')\n",
        "                label[i][int(splitted_line[0])] = splitted_line[1].strip() + '_' + splitted_line[0]\n",
        "    return label\n",
        "labels = read_label()\n",
        "for i in range(1,3):\n",
        "    print('House {}: '.format(i), labels[i], '\\n')\n",
        "print(labels)"
      ],
      "execution_count": null,
      "outputs": [
        {
          "output_type": "stream",
          "name": "stdout",
          "text": [
            "House 1:  {1: 'mains_1', 2: 'mains_2', 3: 'oven_3', 4: 'oven_4', 5: 'refrigerator_5', 6: 'dishwaser_6', 7: 'kitchen_outlets_7', 8: 'kitchen_outlets_8', 9: 'lighting_9', 10: 'washer_dryer_10', 11: 'microwave_11', 12: 'bathroom_gfi_12', 13: 'electric_heat_13', 14: 'stove_14', 15: 'kitchen_outlets_15', 16: 'kitchen_outlets_16', 17: 'lighting_17', 18: 'lighting_18', 19: 'washer_dryer_19', 20: 'washer_dryer_20'} \n",
            "\n",
            "House 2:  {1: 'mains_1', 2: 'mains_2', 3: 'kitchen_outlets_3', 4: 'lighting_4', 5: 'stove_5', 6: 'microwave_6', 7: 'washer_dryer_7', 8: 'kitchen_outlets_8', 9: 'refrigerator_9', 10: 'dishwaser_10', 11: 'disposal_11'} \n",
            "\n",
            "{1: {1: 'mains_1', 2: 'mains_2', 3: 'oven_3', 4: 'oven_4', 5: 'refrigerator_5', 6: 'dishwaser_6', 7: 'kitchen_outlets_7', 8: 'kitchen_outlets_8', 9: 'lighting_9', 10: 'washer_dryer_10', 11: 'microwave_11', 12: 'bathroom_gfi_12', 13: 'electric_heat_13', 14: 'stove_14', 15: 'kitchen_outlets_15', 16: 'kitchen_outlets_16', 17: 'lighting_17', 18: 'lighting_18', 19: 'washer_dryer_19', 20: 'washer_dryer_20'}, 2: {1: 'mains_1', 2: 'mains_2', 3: 'kitchen_outlets_3', 4: 'lighting_4', 5: 'stove_5', 6: 'microwave_6', 7: 'washer_dryer_7', 8: 'kitchen_outlets_8', 9: 'refrigerator_9', 10: 'dishwaser_10', 11: 'disposal_11'}, 3: {1: 'mains_1', 2: 'mains_2', 3: 'outlets_unknown_3', 4: 'outlets_unknown_4', 5: 'lighting_5', 6: 'electronics_6', 7: 'refrigerator_7', 8: 'disposal_8', 9: 'dishwaser_9', 10: 'furance_10', 11: 'lighting_11', 12: 'outlets_unknown_12', 13: 'washer_dryer_13', 14: 'washer_dryer_14', 15: 'lighting_15', 16: 'microwave_16', 17: 'lighting_17', 18: 'smoke_alarms_18', 19: 'lighting_19', 20: 'bathroom_gfi_20', 21: 'kitchen_outlets_21', 22: 'kitchen_outlets_22'}, 4: {1: 'mains_1', 2: 'mains_2', 3: 'lighting_3', 4: 'furance_4', 5: 'kitchen_outlets_5', 6: 'outlets_unknown_6', 7: 'washer_dryer_7', 8: 'stove_8', 9: 'air_conditioning_9', 10: 'air_conditioning_10', 11: 'miscellaeneous_11', 12: 'smoke_alarms_12', 13: 'lighting_13', 14: 'kitchen_outlets_14', 15: 'dishwaser_15', 16: 'bathroom_gfi_16', 17: 'bathroom_gfi_17', 18: 'lighting_18', 19: 'lighting_19', 20: 'air_conditioning_20'}, 5: {1: 'mains_1', 2: 'mains_2', 3: 'microwave_3', 4: 'lighting_4', 5: 'outlets_unknown_5', 6: 'furance_6', 7: 'outlets_unknown_7', 8: 'washer_dryer_8', 9: 'washer_dryer_9', 10: 'subpanel_10', 11: 'subpanel_11', 12: 'electric_heat_12', 13: 'electric_heat_13', 14: 'lighting_14', 15: 'outlets_unknown_15', 16: 'bathroom_gfi_16', 17: 'lighting_17', 18: 'refrigerator_18', 19: 'lighting_19', 20: 'dishwaser_20', 21: 'disposal_21', 22: 'electronics_22', 23: 'lighting_23', 24: 'kitchen_outlets_24', 25: 'kitchen_outlets_25', 26: 'outdoor_outlets_26'}, 6: {1: 'mains_1', 2: 'mains_2', 3: 'kitchen_outlets_3', 4: 'washer_dryer_4', 5: 'stove_5', 6: 'electronics_6', 7: 'bathroom_gfi_7', 8: 'refrigerator_8', 9: 'dishwaser_9', 10: 'outlets_unknown_10', 11: 'outlets_unknown_11', 12: 'electric_heat_12', 13: 'kitchen_outlets_13', 14: 'lighting_14', 15: 'air_conditioning_15', 16: 'air_conditioning_16', 17: 'air_conditioning_17'}}\n"
          ]
        }
      ]
    },
    {
      "cell_type": "code",
      "metadata": {
        "id": "1hpuvbbi1Qvo"
      },
      "source": [
        "# Con la función read_merge_data se une los valores de potencia con sus respectivas marcas temporales, creando un pandas dataframe. \n",
        "def read_merge_data(house):\n",
        "    path = '/content/drive/Shareddrives/TG_NILM/00_Backend/Code_Backend/low_freq/house_{}/'.format(house)\n",
        "    file = path + 'channel_1.dat'\n",
        "    df = pd.read_table(file, sep = ' ', names = ['unix_time', labels[house][1]], \n",
        "                                       dtype = {'unix_time': 'int64', labels[house][1]:'float64'}) \n",
        "    \n",
        "    num_apps = len(glob.glob(path + 'channel*'))\n",
        "    for i in range(2, num_apps + 1):\n",
        "        file = path + 'channel_{}.dat'.format(i)\n",
        "        data = pd.read_table(file, sep = ' ', names = ['unix_time', labels[house][i]], \n",
        "                                       dtype = {'unix_time': 'int64', labels[house][i]:'float64'}) \n",
        "        df = pd.merge(df, data, how = 'inner', on = 'unix_time') \n",
        "    df['timestamp'] = df['unix_time'].astype(\"datetime64[s]\") \n",
        "    df = df.set_index(df['timestamp'].values) \n",
        "    df.drop(['unix_time','timestamp'], axis=1, inplace=True)\n",
        "    return df\n",
        "df = {}\n",
        "for i in range(1,3):\n",
        "    df[i] = read_merge_data(i)"
      ],
      "execution_count": null,
      "outputs": []
    },
    {
      "cell_type": "code",
      "metadata": {
        "colab": {
          "base_uri": "https://localhost:8080/"
        },
        "id": "LPBVdsJ61Svu",
        "outputId": "ea4c7ea0-9825-499d-d8e8-098b77b2b78f"
      },
      "source": [
        "# Creamos un sub data frame (dates) para almacenar la información temporal de cada casa (Fecha de inicio\\fin)\n",
        "dates = {}\n",
        "for i in range(1,3):\n",
        "    dates[i] = [str(time)[:10] for time in df[i].index.values]\n",
        "    dates[i] = sorted(list(set(dates[i])))\n",
        "    print('House {0} data contain {1} days from {2} to {3}.'.format(i,len(dates[i]),dates[i][0], dates[i][-1]))\n",
        "    print(dates[i], '\\n')"
      ],
      "execution_count": null,
      "outputs": [
        {
          "output_type": "stream",
          "name": "stdout",
          "text": [
            "House 1 data contain 23 days from 2011-04-18 to 2011-05-24.\n",
            "['2011-04-18', '2011-04-19', '2011-04-20', '2011-04-21', '2011-04-22', '2011-04-23', '2011-04-24', '2011-04-25', '2011-04-26', '2011-04-27', '2011-04-28', '2011-04-30', '2011-05-01', '2011-05-02', '2011-05-03', '2011-05-06', '2011-05-07', '2011-05-11', '2011-05-12', '2011-05-13', '2011-05-22', '2011-05-23', '2011-05-24'] \n",
            "\n",
            "House 2 data contain 16 days from 2011-04-18 to 2011-05-22.\n",
            "['2011-04-18', '2011-04-19', '2011-04-20', '2011-04-21', '2011-04-22', '2011-04-23', '2011-04-24', '2011-04-25', '2011-04-26', '2011-04-27', '2011-04-28', '2011-04-29', '2011-04-30', '2011-05-01', '2011-05-02', '2011-05-22'] \n",
            "\n"
          ]
        }
      ]
    },
    {
      "cell_type": "markdown",
      "metadata": {
        "id": "kslfIP2nQfH3"
      },
      "source": [
        "Se escoge un split aproximadamente de 70 % training - 30 % test. Esto se hace ya que no se cuenta con tanta información."
      ]
    },
    {
      "cell_type": "code",
      "metadata": {
        "colab": {
          "base_uri": "https://localhost:8080/"
        },
        "id": "LZv2x28o2Gal",
        "outputId": "639ea0e6-abe5-4773-fa93-5b5c87c33c35"
      },
      "source": [
        "# Se separa la información de la casa 1 en entrenamiento/validación/prueba\n",
        "# Revisar, el split utilizado es otro este es un 70/30 - pero en realidad se usó un 75/25. \n",
        "df1_train = df[1].loc[:dates[1][13]]\n",
        "df1_test = df[1].loc[dates[1][14]:]\n",
        "print(df[1].shape) # Confirmación que se esten tomando todas las muestras.\n",
        "print('df_train.shape: ', df1_train.shape)\n",
        "print('df_test.shape: ', df1_test.shape)\n",
        "df1_top = df1_train.head\n",
        "print(df1_top)"
      ],
      "execution_count": null,
      "outputs": [
        {
          "output_type": "stream",
          "name": "stdout",
          "text": [
            "(406748, 20)\n",
            "df_train.shape:  (278782, 20)\n",
            "df_test.shape:  (127966, 20)\n",
            "<bound method NDFrame.head of                      mains_1  mains_2  oven_3  oven_4  refrigerator_5  \\\n",
            "2011-04-18 13:22:13   222.20   118.83     0.0     0.0             6.0   \n",
            "2011-04-18 13:22:16   223.17   119.19     0.0     0.0             6.0   \n",
            "2011-04-18 13:22:20   223.60   118.92     0.0     0.0             6.0   \n",
            "2011-04-18 13:22:23   222.91   119.16     0.0     0.0             6.0   \n",
            "2011-04-18 13:22:26   222.94   118.83     0.0     0.0             6.0   \n",
            "...                      ...      ...     ...     ...             ...   \n",
            "2011-05-02 23:59:43    53.74    38.41     0.0     0.0             6.0   \n",
            "2011-05-02 23:59:46    56.36    38.31     0.0     0.0             7.0   \n",
            "2011-05-02 23:59:50    53.98    38.24     0.0     0.0             6.0   \n",
            "2011-05-02 23:59:54    56.87    38.40     0.0     0.0             6.0   \n",
            "2011-05-02 23:59:58    56.99    38.57     0.0     0.0             6.0   \n",
            "\n",
            "                     dishwaser_6  kitchen_outlets_7  kitchen_outlets_8  \\\n",
            "2011-04-18 13:22:13          0.0               34.0               21.0   \n",
            "2011-04-18 13:22:16          0.0               34.0               21.0   \n",
            "2011-04-18 13:22:20          0.0               34.0               22.0   \n",
            "2011-04-18 13:22:23          1.0               35.0               21.0   \n",
            "2011-04-18 13:22:26          0.0               34.0               21.0   \n",
            "...                          ...                ...                ...   \n",
            "2011-05-02 23:59:43          0.0               21.0               21.0   \n",
            "2011-05-02 23:59:46          0.0               20.0               20.0   \n",
            "2011-05-02 23:59:50          0.0               23.0               21.0   \n",
            "2011-05-02 23:59:54          0.0               23.0               21.0   \n",
            "2011-05-02 23:59:58          0.0               22.0               20.0   \n",
            "\n",
            "                     lighting_9  washer_dryer_10  microwave_11  \\\n",
            "2011-04-18 13:22:13        81.0              0.0           5.0   \n",
            "2011-04-18 13:22:16        81.0              0.0           5.0   \n",
            "2011-04-18 13:22:20        81.0              0.0           5.0   \n",
            "2011-04-18 13:22:23        81.0              0.0           5.0   \n",
            "2011-04-18 13:22:26        81.0              0.0           5.0   \n",
            "...                         ...              ...           ...   \n",
            "2011-05-02 23:59:43         0.0              0.0           4.0   \n",
            "2011-05-02 23:59:46         0.0              0.0           4.0   \n",
            "2011-05-02 23:59:50         0.0              0.0           4.0   \n",
            "2011-05-02 23:59:54         0.0              0.0           4.0   \n",
            "2011-05-02 23:59:58         0.0              0.0           4.0   \n",
            "\n",
            "                     bathroom_gfi_12  electric_heat_13  stove_14  \\\n",
            "2011-04-18 13:22:13              1.0               0.0       0.0   \n",
            "2011-04-18 13:22:16              1.0               0.0       0.0   \n",
            "2011-04-18 13:22:20              1.0               0.0       0.0   \n",
            "2011-04-18 13:22:23              1.0               0.0       0.0   \n",
            "2011-04-18 13:22:26              1.0               0.0       0.0   \n",
            "...                              ...               ...       ...   \n",
            "2011-05-02 23:59:43              1.0               0.0       0.0   \n",
            "2011-05-02 23:59:46              1.0               0.0       0.0   \n",
            "2011-05-02 23:59:50              1.0               0.0       0.0   \n",
            "2011-05-02 23:59:54              1.0               0.0       0.0   \n",
            "2011-05-02 23:59:58              1.0               0.0       0.0   \n",
            "\n",
            "                     kitchen_outlets_15  kitchen_outlets_16  lighting_17  \\\n",
            "2011-04-18 13:22:13                 2.0                 0.0         65.0   \n",
            "2011-04-18 13:22:16                 2.0                 0.0         65.0   \n",
            "2011-04-18 13:22:20                 2.0                 0.0         65.0   \n",
            "2011-04-18 13:22:23                 1.0                 0.0         65.0   \n",
            "2011-04-18 13:22:26                 2.0                 0.0         65.0   \n",
            "...                                 ...                 ...          ...   \n",
            "2011-05-02 23:59:43                 1.0                 0.0          0.0   \n",
            "2011-05-02 23:59:46                 1.0                 0.0          0.0   \n",
            "2011-05-02 23:59:50                 1.0                 0.0          0.0   \n",
            "2011-05-02 23:59:54                 1.0                 0.0          0.0   \n",
            "2011-05-02 23:59:58                 1.0                 0.0          0.0   \n",
            "\n",
            "                     lighting_18  washer_dryer_19  washer_dryer_20  \n",
            "2011-04-18 13:22:13         46.0              0.0              0.0  \n",
            "2011-04-18 13:22:16         46.0              0.0              0.0  \n",
            "2011-04-18 13:22:20         46.0              0.0              0.0  \n",
            "2011-04-18 13:22:23         46.0              0.0              0.0  \n",
            "2011-04-18 13:22:26         46.0              0.0              0.0  \n",
            "...                          ...              ...              ...  \n",
            "2011-05-02 23:59:43          1.0              0.0              0.0  \n",
            "2011-05-02 23:59:46          1.0              0.0              0.0  \n",
            "2011-05-02 23:59:50          1.0              0.0              0.0  \n",
            "2011-05-02 23:59:54          1.0              0.0              0.0  \n",
            "2011-05-02 23:59:58          1.0              0.0              0.0  \n",
            "\n",
            "[278782 rows x 20 columns]>\n"
          ]
        }
      ]
    },
    {
      "cell_type": "markdown",
      "source": [
        "La siguiente función es necesario ejecutarla solo 1 vez. Luego se guardan los resultados en un binario. Si se cambian los párametros de los datos de la LSTM o se altera la relación entrenamiento/test es necesario volver a correr la función."
      ],
      "metadata": {
        "id": "2rvkCU4wJ35h"
      }
    },
    {
      "cell_type": "markdown",
      "source": [
        "Salvamos estos arreglos de numpy para no tener que estar usando la función process_data, cuyo tiempo de ejecución supera los 15 minutos. Guardando los binarios el proceso demora menos de 10 segundos!"
      ],
      "metadata": {
        "id": "9aove8PZITFU"
      }
    },
    {
      "cell_type": "markdown",
      "source": [
        "### Funciones auxiliares"
      ],
      "metadata": {
        "id": "iMaLkUJcYOGp"
      }
    },
    {
      "cell_type": "code",
      "metadata": {
        "id": "8svIN9YuH4yp"
      },
      "source": [
        "# La siguiente función permite graficar los resultados predecidos con respecto a los reales.\n",
        "def plot_each_app(df, dates, predict, y_test, title, time_steps = 0):\n",
        "    num_date = len(dates)\n",
        "    fig, axes = plt.subplots(num_date,1,figsize=(24, num_date*5) )\n",
        "    plt.suptitle(title, fontsize = '25')\n",
        "    fig.tight_layout()\n",
        "    fig.subplots_adjust(top=0.95)\n",
        "    for i in range(num_date):\n",
        "        if i == 0: l = 0\n",
        "        ind = df.loc[dates[i]].index[time_steps:]\n",
        "        axes.flat[i].plot(ind, y_test[l:l+len(ind)], color = 'blue', alpha = 0.6, label = 'True value')\n",
        "        axes.flat[i].plot(ind, predict[l:l+len(ind)], color = 'red', alpha = 0.6, label = 'Predicted value')\n",
        "        axes.flat[i].legend()\n",
        "        l = len(ind)"
      ],
      "execution_count": null,
      "outputs": []
    },
    {
      "cell_type": "code",
      "source": [
        "# Esta función se implementa para convertir los datos de potencia de un electrodoméstico \n",
        "# a información de activación y apagado/sueño. Para ello pongo un treshold de 10 W. \n",
        "# Una tarea pendiente es evaluar una forma de identificar automaticamente el \n",
        "# Threshold sin necesidad de analizar cada electrodoméstico por separado. \n",
        "def labeling_elec(y_train):\n",
        "    y_train_labeled = np.array([])\n",
        "    num_y_train = len(y_train)\n",
        "    for power_reading in range(num_y_train):\n",
        "        if y_train[power_reading] < 50:\n",
        "            y_train_labeled = np.append(y_train_labeled,[0])\n",
        "        else:\n",
        "            y_train_labeled = np.append(y_train_labeled,[1])\n",
        "    return y_train_labeled"
      ],
      "metadata": {
        "id": "ZpWo9zAfDhXA"
      },
      "execution_count": null,
      "outputs": []
    },
    {
      "cell_type": "code",
      "source": [
        "# Esta función permite calcular la potencia promedio consumida por 1 electrodoméstico en un periodo\n",
        "# de tiempo previamente determinado.\n",
        "def power_reading(pred_data, power_consumption):\n",
        "    sump = 0\n",
        "    for power in pred_data:\n",
        "        if power == 1:\n",
        "            sump += power_consumption\n",
        "    avep = round(sump/len(pred_data))\n",
        "    return avep"
      ],
      "metadata": {
        "id": "oTeoNEkxwxh4"
      },
      "execution_count": null,
      "outputs": []
    },
    {
      "cell_type": "code",
      "source": [
        "# Average power reading for a window of measures in the regression problem.\n",
        "def power_reading_regression(pred_data):\n",
        "    sump = 0\n",
        "    for i in range(len(pred_data)):\n",
        "        sump += pred_data[i]\n",
        "    avep = round(sump/len(pred_data))\n",
        "    return avep"
      ],
      "metadata": {
        "id": "oc7Foi2RrrGY"
      },
      "execution_count": null,
      "outputs": []
    },
    {
      "cell_type": "markdown",
      "source": [
        ""
      ],
      "metadata": {
        "id": "HhC3-RidTQIu"
      }
    },
    {
      "cell_type": "markdown",
      "source": [
        "## Carga de datos LSTM"
      ],
      "metadata": {
        "id": "loX2H_Z4JFSL"
      }
    },
    {
      "cell_type": "markdown",
      "source": [
        "### T_step = 10"
      ],
      "metadata": {
        "id": "xvjTVKc1TLc1"
      }
    },
    {
      "cell_type": "markdown",
      "source": [
        "Cargamos los arreglos numpy previamente creados:"
      ],
      "metadata": {
        "id": "nHluW_1gJDmo"
      }
    },
    {
      "cell_type": "code",
      "source": [
        "X_train = np.load(r'/content/drive/Shareddrives/TG_NILM/00_Backend/Code_Backend/X_train.npy')\n",
        "y_train = np.load(r'/content/drive/Shareddrives/TG_NILM/00_Backend/Code_Backend/y_train.npy')\n",
        "X_test = np.load(r'/content/drive/Shareddrives/TG_NILM/00_Backend/Code_Backend/X_test.npy')\n",
        "y_test = np.load(r'/content/drive/Shareddrives/TG_NILM/00_Backend/Code_Backend/y_test.npy')\n",
        "print(X_train.shape, y_train.shape, X_test.shape, y_test.shape)"
      ],
      "metadata": {
        "colab": {
          "base_uri": "https://localhost:8080/"
        },
        "id": "McX-zePvHtMK",
        "outputId": "be03966c-9ad6-4e3b-e7b2-350eb5d1cdb3"
      },
      "execution_count": null,
      "outputs": [
        {
          "output_type": "stream",
          "name": "stdout",
          "text": [
            "(305048, 10, 2) (305048, 18) (101470, 10, 2) (101470, 18)\n"
          ]
        }
      ]
    },
    {
      "cell_type": "markdown",
      "source": [
        "En el siguiente bloque de código se visualiza la información con la que contamos."
      ],
      "metadata": {
        "id": "kk6x81p9IwQD"
      }
    },
    {
      "cell_type": "code",
      "source": [
        "print(y_train[1:10]) # Aqui podemos observar que tenemos las 18 lecturas de energía.\n",
        "print(X_train[1:4]) # Aqui tenemos un arreglo con un step time de 10, el cual movemos a través de las lecturas agregadas,\n",
        "                    # Nuestro algoritmo tendrá de entrada la señal agregada de consumo y tratará de predecir la presencia/ausencia\n",
        "                    # de cada uno de los electrodomésticos."
      ],
      "metadata": {
        "colab": {
          "base_uri": "https://localhost:8080/"
        },
        "id": "n_CrHYn-Ivs-",
        "outputId": "0348b662-36e8-4f70-b8a7-a50b20d5fa59"
      },
      "execution_count": null,
      "outputs": [
        {
          "output_type": "stream",
          "name": "stdout",
          "text": [
            "[[ 0.  0.  6.  1. 39. 21. 82.  0.  5.  1.  0.  0.  1.  0. 65. 46.  0.  0.]\n",
            " [ 0.  0.  6.  0. 34. 22. 81.  0.  5.  1.  0.  0.  2.  0. 65. 46.  0.  0.]\n",
            " [ 0.  0.  6.  0. 38. 21. 81.  0.  5.  1.  0.  0.  1.  0. 65. 46.  0.  0.]\n",
            " [ 0.  0.  6.  0. 39. 21. 82.  0.  5.  1.  0.  0.  1.  0. 66. 46.  0.  0.]\n",
            " [ 0.  0.  6.  1. 37. 22. 81.  0.  5.  1.  0.  0.  2.  0. 65. 46.  0.  0.]\n",
            " [ 0.  0.  6.  0. 34. 21. 81.  0.  5.  1.  0.  0.  1.  0. 65. 46.  0.  0.]\n",
            " [ 0.  0.  6.  1. 36. 22. 81.  0.  5.  1.  0.  0.  1.  0. 65. 46.  0.  0.]\n",
            " [ 0.  0.  6.  0. 38. 21. 81.  0.  5.  1.  0.  0.  1.  0. 65. 46.  0.  0.]\n",
            " [ 0.  0.  6.  0. 35. 22. 81.  0.  5.  1.  0.  0.  2.  0. 65. 46.  0.  0.]]\n",
            "[[[223.17 119.19]\n",
            "  [223.6  118.92]\n",
            "  [222.91 119.16]\n",
            "  [222.94 118.83]\n",
            "  [222.9  118.76]\n",
            "  [222.96 118.88]\n",
            "  [222.54 118.36]\n",
            "  [226.03 119.17]\n",
            "  [222.96 119.03]\n",
            "  [223.52 118.82]]\n",
            "\n",
            " [[223.6  118.92]\n",
            "  [222.91 119.16]\n",
            "  [222.94 118.83]\n",
            "  [222.9  118.76]\n",
            "  [222.96 118.88]\n",
            "  [222.54 118.36]\n",
            "  [226.03 119.17]\n",
            "  [222.96 119.03]\n",
            "  [223.52 118.82]\n",
            "  [227.29 119.17]]\n",
            "\n",
            " [[222.91 119.16]\n",
            "  [222.94 118.83]\n",
            "  [222.9  118.76]\n",
            "  [222.96 118.88]\n",
            "  [222.54 118.36]\n",
            "  [226.03 119.17]\n",
            "  [222.96 119.03]\n",
            "  [223.52 118.82]\n",
            "  [227.29 119.17]\n",
            "  [221.72 118.61]]]\n"
          ]
        }
      ]
    },
    {
      "cell_type": "markdown",
      "source": [
        "Opción 2: TimeStep = 100"
      ],
      "metadata": {
        "id": "OEbD2i5yN3Bx"
      }
    },
    {
      "cell_type": "code",
      "source": [
        "X_data_House1_stp3 = np.load(r'/content/drive/Shareddrives/TG_NILM/00_Backend/Code_Backend/X_data_House1_stp3.npy')\n",
        "y_data_House1_stp3 = np.load(r'/content/drive/Shareddrives/TG_NILM/00_Backend/Code_Backend/y_data_House1_stp3.npy')"
      ],
      "metadata": {
        "id": "OegxSWa_TnVh"
      },
      "execution_count": null,
      "outputs": []
    },
    {
      "cell_type": "code",
      "source": [
        ""
      ],
      "metadata": {
        "id": "brE86X0TTnzG"
      },
      "execution_count": null,
      "outputs": []
    },
    {
      "cell_type": "code",
      "source": [
        ""
      ],
      "metadata": {
        "id": "iRz-MPukT3Lb"
      },
      "execution_count": null,
      "outputs": []
    },
    {
      "cell_type": "markdown",
      "source": [
        "### T_step = 3"
      ],
      "metadata": {
        "id": "GSYlk0GOT3aB"
      }
    },
    {
      "cell_type": "markdown",
      "source": [
        "Cargamos los arreglos numpy previamente creados:"
      ],
      "metadata": {
        "id": "FkBx9shpT3aB"
      }
    },
    {
      "cell_type": "code",
      "source": [
        "X_train = np.load(r'/content/drive/Shareddrives/TG_NILM/00_Backend/Code_Backend/X_train_D3.npy')\n",
        "y_train = np.load(r'/content/drive/Shareddrives/TG_NILM/00_Backend/Code_Backend/y_train_D3.npy')\n",
        "X_test = np.load(r'/content/drive/Shareddrives/TG_NILM/00_Backend/Code_Backend/X_test_D3.npy')\n",
        "y_test = np.load(r'/content/drive/Shareddrives/TG_NILM/00_Backend/Code_Backend/y_test_D3.npy')\n",
        "print(X_train.shape, y_train.shape, X_test.shape, y_test.shape)"
      ],
      "metadata": {
        "colab": {
          "base_uri": "https://localhost:8080/"
        },
        "outputId": "12ebac1d-1f01-46e6-99e3-5ffd4313b954",
        "id": "3XYDWeVGT3aB"
      },
      "execution_count": null,
      "outputs": [
        {
          "output_type": "stream",
          "name": "stdout",
          "text": [
            "(305160, 3, 2) (305160, 18) (101519, 3, 2) (101519, 18)\n"
          ]
        }
      ]
    },
    {
      "cell_type": "markdown",
      "source": [
        "# Model LSTM_1"
      ],
      "metadata": {
        "id": "CrCu_Xo-cTSu"
      }
    },
    {
      "cell_type": "markdown",
      "source": [
        "Características del modelo LSTM_1:\n",
        "\n",
        "\n",
        "*   TimeStep: 10.\n",
        "*   1ra Capa: 256 neuronas.\n",
        "*   2da Capa: 64 neuronas.\n",
        "*   Dropout: 0.2 en ambas capas.\n",
        "*   Función de activación: ReLU\n",
        "*   Adam lr: 0.0005.\n",
        "*   Batch_size: (N=800, L=1000, M=100).\n",
        "*   Epochs: 100.\n",
        "*   Validation split: 80-10-10.\n",
        "*   Loss: 'mean_squared_error'.\n",
        "*   Monitor metric: \"val_loss\"."
      ],
      "metadata": {
        "id": "7VIDS2NBcWkQ"
      }
    },
    {
      "cell_type": "markdown",
      "source": [
        "## Nevera"
      ],
      "metadata": {
        "id": "nFtzYh4Eca3w"
      }
    },
    {
      "cell_type": "code",
      "source": [
        "nevera_LSMT_1 = Sequential()\n",
        "nevera_LSMT_1.add(LSTM(256, input_shape=(None, 2), activation='relu', return_sequences=True))\n",
        "nevera_LSMT_1.add(Dropout(0.2))\n",
        "nevera_LSMT_1.add(LSTM(64, activation='relu'))\n",
        "nevera_LSMT_1.add(Dropout(0.2))\n",
        "nevera_LSMT_1.add(Dense(1))\n",
        "nevera_LSMT_1.summary()"
      ],
      "metadata": {
        "colab": {
          "base_uri": "https://localhost:8080/"
        },
        "id": "6QRR8Y2TcduD",
        "outputId": "02f99c11-3911-490a-d7bc-d4f5f93e5541"
      },
      "execution_count": null,
      "outputs": [
        {
          "output_type": "stream",
          "name": "stdout",
          "text": [
            "Model: \"sequential\"\n",
            "_________________________________________________________________\n",
            " Layer (type)                Output Shape              Param #   \n",
            "=================================================================\n",
            " lstm (LSTM)                 (None, None, 256)         265216    \n",
            "                                                                 \n",
            " dropout (Dropout)           (None, None, 256)         0         \n",
            "                                                                 \n",
            " lstm_1 (LSTM)               (None, 64)                82176     \n",
            "                                                                 \n",
            " dropout_1 (Dropout)         (None, 64)                0         \n",
            "                                                                 \n",
            " dense (Dense)               (None, 1)                 65        \n",
            "                                                                 \n",
            "=================================================================\n",
            "Total params: 347,457\n",
            "Trainable params: 347,457\n",
            "Non-trainable params: 0\n",
            "_________________________________________________________________\n"
          ]
        }
      ]
    },
    {
      "cell_type": "code",
      "source": [
        "start = time.time()\n",
        "adam = Adam(learning_rate=0.0005)\n",
        "nevera_LSMT_1.compile(loss='mean_squared_error', optimizer=adam)\n",
        "# Con el checkpointer guardamos los hiperparametros que consiguen los mejores resultados en el set de validación.\n",
        "\n",
        "checkpointer = ModelCheckpoint(filepath=\"/content/drive/Shareddrives/TG_NILM/00_Backend/Code_Backend/Models/nevera_LSMT_1.hdf5\", monitor=\"val_loss\", verbose=0, save_best_only=True)\n",
        "hist_nevera_LSMT_1 = nevera_LSMT_1.fit(\n",
        "            X_train,\n",
        "            y_train[:,2],\n",
        "            batch_size=800,\n",
        "            verbose=1,\n",
        "            epochs=20,\n",
        "            validation_split=0.1,\n",
        "            callbacks=[checkpointer])\n",
        "print('Finish trainning. Time: ', time.time() - start)"
      ],
      "metadata": {
        "colab": {
          "base_uri": "https://localhost:8080/"
        },
        "id": "OmbVMN0gcq9C",
        "outputId": "d800fbc6-ce52-44ac-f87f-b9281e820945"
      },
      "execution_count": null,
      "outputs": [
        {
          "output_type": "stream",
          "name": "stdout",
          "text": [
            "Epoch 1/20\n",
            "344/344 [==============================] - 46s 113ms/step - loss: 9703.7002 - val_loss: 6294.5879\n",
            "Epoch 2/20\n",
            "344/344 [==============================] - 35s 103ms/step - loss: 7406.1509 - val_loss: 6446.6729\n",
            "Epoch 3/20\n",
            "344/344 [==============================] - 35s 102ms/step - loss: 7243.5264 - val_loss: 7530.8027\n",
            "Epoch 4/20\n",
            "344/344 [==============================] - 36s 105ms/step - loss: 6880.6987 - val_loss: 7111.5762\n",
            "Epoch 5/20\n",
            "344/344 [==============================] - 35s 102ms/step - loss: 5860.2651 - val_loss: 3424.8525\n",
            "Epoch 6/20\n",
            "344/344 [==============================] - 36s 104ms/step - loss: 4334.6904 - val_loss: 1996.9714\n",
            "Epoch 7/20\n",
            "344/344 [==============================] - 36s 104ms/step - loss: 3929.8269 - val_loss: 1558.8813\n",
            "Epoch 8/20\n",
            "344/344 [==============================] - 35s 103ms/step - loss: 3297.9453 - val_loss: 1588.9891\n",
            "Epoch 9/20\n",
            "344/344 [==============================] - 36s 104ms/step - loss: 3173.8894 - val_loss: 1516.6683\n",
            "Epoch 10/20\n",
            "344/344 [==============================] - 36s 104ms/step - loss: 2842.2820 - val_loss: 1325.9769\n",
            "Epoch 11/20\n",
            "344/344 [==============================] - 36s 104ms/step - loss: 2837.9282 - val_loss: 1062.1864\n",
            "Epoch 12/20\n",
            "344/344 [==============================] - 35s 102ms/step - loss: 2624.6199 - val_loss: 1126.6742\n",
            "Epoch 13/20\n",
            "344/344 [==============================] - 36s 103ms/step - loss: 2517.2529 - val_loss: 1105.8539\n",
            "Epoch 14/20\n",
            "344/344 [==============================] - 35s 103ms/step - loss: 2480.3652 - val_loss: 909.1620\n",
            "Epoch 15/20\n",
            "344/344 [==============================] - 35s 102ms/step - loss: 2372.4749 - val_loss: 954.6799\n",
            "Epoch 16/20\n",
            "344/344 [==============================] - 35s 103ms/step - loss: 2244.9744 - val_loss: 780.3228\n",
            "Epoch 17/20\n",
            "344/344 [==============================] - 35s 102ms/step - loss: 2145.7166 - val_loss: 814.1877\n",
            "Epoch 18/20\n",
            "344/344 [==============================] - 35s 102ms/step - loss: 2970.4814 - val_loss: 3067.4194\n",
            "Epoch 19/20\n",
            "344/344 [==============================] - 35s 101ms/step - loss: 5239.8037 - val_loss: 4265.8184\n",
            "Epoch 20/20\n",
            "344/344 [==============================] - 35s 101ms/step - loss: 4203.2183 - val_loss: 2962.5884\n",
            "Finish trainning. Time:  746.1598718166351\n"
          ]
        }
      ]
    },
    {
      "cell_type": "code",
      "source": [
        "plt.plot(y_train[0:100,2])"
      ],
      "metadata": {
        "colab": {
          "base_uri": "https://localhost:8080/",
          "height": 283
        },
        "id": "Ys86vue2qBn7",
        "outputId": "f484dd1c-72d9-4575-b4c0-01b2a074c793"
      },
      "execution_count": null,
      "outputs": [
        {
          "output_type": "execute_result",
          "data": {
            "text/plain": [
              "[<matplotlib.lines.Line2D at 0x7f1b6f0a0f90>]"
            ]
          },
          "metadata": {},
          "execution_count": 34
        },
        {
          "output_type": "display_data",
          "data": {
            "text/plain": [
              "<Figure size 432x288 with 1 Axes>"
            ],
            "image/png": "[encoded data removed]"
          },
          "metadata": {
            "needs_background": "light"
          }
        }
      ]
    },
    {
      "cell_type": "markdown",
      "source": [
        "### Validation with all the data."
      ],
      "metadata": {
        "id": "v2ACReLJtX6_"
      }
    },
    {
      "cell_type": "code",
      "source": [
        "load_nevera_LSMT_1 = load_model('/content/drive/Shareddrives/TG_NILM/00_Backend/Code_Backend/Models/nevera_LSMT_1.hdf5')\n",
        "t1_start = process_time() \n",
        "pred_nevera_LSMT_1 = load_nevera_LSMT_1.predict(X_test[:]).reshape(-1)\n",
        "t1_stop = process_time()\n",
        "print(pred_nevera_LSMT_1.shape)\n",
        "print(\"Elapsed time during the whole program in seconds:\",\n",
        "                                         t1_stop-t1_start) "
      ],
      "metadata": {
        "colab": {
          "base_uri": "https://localhost:8080/"
        },
        "id": "3PGNdaOug_a7",
        "outputId": "49390b01-34f8-45f4-e58b-75cc06382792"
      },
      "execution_count": null,
      "outputs": [
        {
          "output_type": "stream",
          "name": "stdout",
          "text": [
            "WARNING:tensorflow:Layer lstm will not use cuDNN kernels since it doesn't meet the criteria. It will use a generic GPU kernel as fallback when running on GPU.\n",
            "WARNING:tensorflow:Layer lstm_1 will not use cuDNN kernels since it doesn't meet the criteria. It will use a generic GPU kernel as fallback when running on GPU.\n",
            "(101470,)\n",
            "Elapsed time during the whole program in seconds: 28.05013372099984\n"
          ]
        }
      ]
    },
    {
      "cell_type": "code",
      "source": [
        "power_reading_regression(pred_nevera_LSMT_1)"
      ],
      "metadata": {
        "colab": {
          "base_uri": "https://localhost:8080/"
        },
        "id": "DpOX_sxhhMGn",
        "outputId": "90b9e2a7-6963-4d38-ebaa-c87687e4d145"
      },
      "execution_count": null,
      "outputs": [
        {
          "output_type": "execute_result",
          "data": {
            "text/plain": [
              "53"
            ]
          },
          "metadata": {},
          "execution_count": 18
        }
      ]
    },
    {
      "cell_type": "code",
      "source": [
        "def rmse_loss(y_predict, y):\n",
        "    return np.sqrt(np.mean(np.square(y_predict - y)))\n",
        "def mae_loss(y_predict, y):\n",
        "    return np.mean(np.abs(y_predict - y)) "
      ],
      "metadata": {
        "id": "LqB23Ct1hRpB"
      },
      "execution_count": null,
      "outputs": []
    },
    {
      "cell_type": "code",
      "source": [
        "rmse_loss_nevera_LSMT_1 = rmse_loss(pred_nevera_LSMT_1, y_test[:,2])\n",
        "mae_loss_nevera_LSMT_1 = mae_loss(pred_nevera_LSMT_1, y_test[:,2])\n",
        "print('Root mean square error on test set: ', rmse_loss_nevera_LSMT_1)\n",
        "print('Mean absolute error on the test set: ', mae_loss_nevera_LSMT_1)"
      ],
      "metadata": {
        "colab": {
          "base_uri": "https://localhost:8080/"
        },
        "id": "L8BrxBojhVr8",
        "outputId": "f4ed31b1-aa9d-4931-e707-514a3000d2e2"
      },
      "execution_count": null,
      "outputs": [
        {
          "output_type": "stream",
          "name": "stdout",
          "text": [
            "Root mean square error on test set:  43.87636116490037\n",
            "Mean absolute error on the test set:  13.998295281137095\n"
          ]
        }
      ]
    },
    {
      "cell_type": "code",
      "source": [
        "def labeling_elec(y_train, tresh):\n",
        "    y_train_labeled = np.array([])\n",
        "    num_y_train = len(y_train)\n",
        "    for power_reading in range(num_y_train):\n",
        "        if y_train[power_reading] < tresh:\n",
        "            y_train_labeled = np.append(y_train_labeled,[0])\n",
        "        else:\n",
        "            y_train_labeled = np.append(y_train_labeled,[1])\n",
        "    return y_train_labeled"
      ],
      "metadata": {
        "id": "9r4qEuEnhyhD"
      },
      "execution_count": null,
      "outputs": []
    },
    {
      "cell_type": "code",
      "source": [
        "from sklearn import metrics\n",
        "from sklearn.metrics import ConfusionMatrixDisplay\n",
        "from sklearn.metrics import confusion_matrix\n",
        "\n",
        "# Finding best tresh:\n",
        "def best_tresh(init, y_train, top_tresh):\n",
        "    test_tresh = init\n",
        "    best_f1_score = 0\n",
        "    f1_scores = []\n",
        "    test_treshs = []\n",
        "    while test_tresh < top_tresh:\n",
        "        y_pred_labeled = labeling_elec(y_train, test_tresh)\n",
        "        y_test_labeled = labeling_elec(y_test[:,2], test_tresh)\n",
        "        cm = confusion_matrix(y_test_labeled, y_pred_labeled)\n",
        "        TP = cm[1, 1]\n",
        "        TN = cm[0, 0]\n",
        "        FP = cm[0, 1]\n",
        "        FN = cm[1, 0]\n",
        "        C_accuracy = (TP + TN) / float(TP + TN + FP + FN)\n",
        "        C_error = (FP + FN) / float(TP + TN + FP + FN)\n",
        "        sensitivity = TP / float(FN + TP)\n",
        "        specifity = TN / (TN + FP)\n",
        "        fp_rate = FP / float(TN + FP)\n",
        "        precision = TP / float(TP + FP)\n",
        "        f1_score = 2*((sensitivity*precision)/(sensitivity+precision))\n",
        "        f1_scores.append(f1_score)\n",
        "        test_treshs.append(test_tresh)\n",
        "        if f1_score > best_f1_score:\n",
        "            best_f1_score = f1_score\n",
        "            best_tresh = test_tresh\n",
        "        test_tresh += 5\n",
        "    return best_f1_score, best_tresh, f1_scores, test_treshs"
      ],
      "metadata": {
        "id": "QsJ9ANINiCMy"
      },
      "execution_count": null,
      "outputs": []
    },
    {
      "cell_type": "code",
      "source": [
        "best_f1_score, best_tresh, f1_scores, test_treshs = best_tresh(20, pred_nevera_LSMT_1, 100)"
      ],
      "metadata": {
        "id": "-3TXXVp7jfcU"
      },
      "execution_count": null,
      "outputs": []
    },
    {
      "cell_type": "code",
      "source": [
        "print(best_f1_score)\n",
        "print(best_tresh)\n",
        "print(f1_scores)\n",
        "print(test_treshs)"
      ],
      "metadata": {
        "colab": {
          "base_uri": "https://localhost:8080/"
        },
        "id": "Yuj6tdJkpdal",
        "outputId": "e29b92e7-4724-43af-fe80-dae8b3e67ea8"
      },
      "execution_count": null,
      "outputs": [
        {
          "output_type": "stream",
          "name": "stdout",
          "text": [
            "0.9402001464486209\n",
            "75\n",
            "[0.9051520241319028, 0.905715614183127, 0.9129761428297979, 0.9169613162961667, 0.9199922612870886, 0.9197121490052208, 0.9254208663468622, 0.9250343878954609, 0.9269320928204103, 0.9317431936738494, 0.9348181750576338, 0.9402001464486209, 0.935911518503087, 0.9351271234750884, 0.9330432127042296, 0.9275941583397387]\n",
            "[20, 25, 30, 35, 40, 45, 50, 55, 60, 65, 70, 75, 80, 85, 90, 95]\n"
          ]
        }
      ]
    },
    {
      "cell_type": "code",
      "source": [
        "y_pred_labeled = labeling_elec(pred_nevera_LSMT_1, 75)"
      ],
      "metadata": {
        "id": "02R5zqPkhcd8"
      },
      "execution_count": null,
      "outputs": []
    },
    {
      "cell_type": "code",
      "source": [
        "y_test_labeled = labeling_elec(y_test[:,2], 75)"
      ],
      "metadata": {
        "id": "YUt9ggQohiiK"
      },
      "execution_count": null,
      "outputs": []
    },
    {
      "cell_type": "code",
      "source": [
        "from sklearn import metrics\n",
        "from sklearn.metrics import ConfusionMatrixDisplay\n",
        "from sklearn.metrics import confusion_matrix\n",
        "import matplotlib.pyplot as plt\n",
        "import numpy as np\n",
        "\n",
        "labels = [\"Apagado\", \"Encendido\"]\n",
        "\n",
        "cm = confusion_matrix(y_test_labeled, y_pred_labeled)\n",
        "TP = cm[1, 1]\n",
        "TN = cm[0, 0]\n",
        "FP = cm[0, 1]\n",
        "FN = cm[1, 0]\n",
        "disp = ConfusionMatrixDisplay(confusion_matrix=cm, display_labels=labels)\n",
        "disp.plot(cmap=plt.cm.Blues)\n",
        "plt.show()"
      ],
      "metadata": {
        "colab": {
          "base_uri": "https://localhost:8080/",
          "height": 279
        },
        "id": "bnHxwLi_hoIu",
        "outputId": "cc79d653-175c-4c8e-ff62-4553dae17758"
      },
      "execution_count": null,
      "outputs": [
        {
          "output_type": "display_data",
          "data": {
            "text/plain": [
              "<Figure size 432x288 with 2 Axes>"
            ],
            "image/png": "[encoded data removed]"
          },
          "metadata": {
            "needs_background": "light"
          }
        }
      ]
    },
    {
      "cell_type": "code",
      "source": [
        "C_accuracy = (TP + TN) / float(TP + TN + FP + FN)\n",
        "C_error = (FP + FN) / float(TP + TN + FP + FN)\n",
        "sensitivity = TP / float(FN + TP)\n",
        "specifity = TN / (TN + FP)\n",
        "fp_rate = FP / float(TN + FP)\n",
        "precision = TP / float(TP + FP)\n",
        "f1_score = 2*((sensitivity*precision)/(sensitivity+precision))\n",
        "print(\"Classification Accuracy:\", C_accuracy)\n",
        "print(\"Classification Error:\", C_error)\n",
        "print(\"Sensitivity:\", sensitivity)\n",
        "print(\"Specifity:\", specifity)\n",
        "print(\"False Positive Rate:\", fp_rate)\n",
        "print(\"Precision:\", precision)\n",
        "print(\"F1 Score:\", f1_score)"
      ],
      "metadata": {
        "colab": {
          "base_uri": "https://localhost:8080/"
        },
        "id": "V9bKIxLwhpE2",
        "outputId": "edfebc11-2900-41c0-ac7a-d2ea86f9964a"
      },
      "execution_count": null,
      "outputs": [
        {
          "output_type": "stream",
          "name": "stdout",
          "text": [
            "Classification Accuracy: 0.968611412240071\n",
            "Classification Error: 0.031388587759929046\n",
            "Sensitivity: 0.9477628889393596\n",
            "Specifity: 0.9759500079944572\n",
            "False Positive Rate: 0.024049992005542822\n",
            "Precision: 0.932757143389338\n",
            "F1 Score: 0.9402001464486209\n"
          ]
        }
      ]
    },
    {
      "cell_type": "markdown",
      "source": [
        "### Validation with 40 examples."
      ],
      "metadata": {
        "id": "Q9c8xeTNtcbn"
      }
    },
    {
      "cell_type": "code",
      "source": [
        "load_nevera_LSMT_1 = load_model('/content/drive/Shareddrives/TG_NILM/00_Backend/Code_Backend/Models/nevera_LSMT_1.hdf5')\n",
        "t1_start = process_time() \n",
        "pred_nevera_LSMT_1 = load_nevera_LSMT_1.predict(X_test[:32000], batch_size=800).reshape(-1)\n",
        "t1_stop = process_time()\n",
        "print(pred_nevera_LSMT_1.shape)\n",
        "print(\"Elapsed time during the whole program in seconds:\",\n",
        "                                         t1_stop-t1_start) "
      ],
      "metadata": {
        "colab": {
          "base_uri": "https://localhost:8080/"
        },
        "outputId": "dd32ebfd-a4ac-471c-d176-803cf7911a83",
        "id": "GTwqdkLVtcbo"
      },
      "execution_count": null,
      "outputs": [
        {
          "output_type": "stream",
          "name": "stderr",
          "text": [
            "WARNING:tensorflow:Layer lstm will not use cuDNN kernels since it doesn't meet the criteria. It will use a generic GPU kernel as fallback when running on GPU.\n",
            "WARNING:tensorflow:Layer lstm_1 will not use cuDNN kernels since it doesn't meet the criteria. It will use a generic GPU kernel as fallback when running on GPU.\n"
          ]
        },
        {
          "output_type": "stream",
          "name": "stdout",
          "text": [
            "(32000,)\n",
            "Elapsed time during the whole program in seconds: 0.9379517830000168\n"
          ]
        }
      ]
    },
    {
      "cell_type": "code",
      "source": [
        "power_reading_regression(pred_nevera_LSMT_1)"
      ],
      "metadata": {
        "colab": {
          "base_uri": "https://localhost:8080/"
        },
        "outputId": "d88e6227-9738-4162-b081-82cd6e093047",
        "id": "CUPrLV0btcbo"
      },
      "execution_count": null,
      "outputs": [
        {
          "output_type": "execute_result",
          "data": {
            "text/plain": [
              "49"
            ]
          },
          "metadata": {},
          "execution_count": 33
        }
      ]
    },
    {
      "cell_type": "code",
      "source": [
        "def rmse_loss(y_predict, y):\n",
        "    return np.sqrt(np.mean(np.square(y_predict - y)))\n",
        "def mae_loss(y_predict, y):\n",
        "    return np.mean(np.abs(y_predict - y)) "
      ],
      "metadata": {
        "id": "udTCcOqhtcbo"
      },
      "execution_count": null,
      "outputs": []
    },
    {
      "cell_type": "code",
      "source": [
        "def NoZeros_Fn(True_Values, predicted_Values):\n",
        "    True_Values_NoZeros = []\n",
        "    predicted_Values_NoZeros = []\n",
        "    for i in range(len(True_Values)):\n",
        "        if True_Values[i] > 10:\n",
        "            True_Values_NoZeros.append(True_Values[i])\n",
        "            predicted_Values_NoZeros.append(predicted_Values[i])\n",
        "    return True_Values_NoZeros, predicted_Values_NoZeros"
      ],
      "metadata": {
        "id": "UvC4lYBfRHfX"
      },
      "execution_count": null,
      "outputs": []
    },
    {
      "cell_type": "code",
      "source": [
        "True_Values_NoZeros, predicted_Values_NoZeros = NoZeros_Fn(y_test[:32000,2], pred_nevera_LSMT_1)"
      ],
      "metadata": {
        "id": "YEdSkNUMRhzX"
      },
      "execution_count": null,
      "outputs": []
    },
    {
      "cell_type": "code",
      "source": [
        "rmse_loss_nevera_LSMT_1 = rmse_loss(pred_nevera_LSMT_1, y_test[:32000,2])\n",
        "mae_loss_nevera_LSMT_1 = mae_loss(pred_nevera_LSMT_1, y_test[:32000,2])\n",
        "mape_loss_nevera_LSMT_1 = mean_absolute_percentage_error(True_Values_NoZeros, predicted_Values_NoZeros)\n",
        "print('Root mean square error on test set: ', rmse_loss_nevera_LSMT_1)\n",
        "print('Mean absolute error on the test set: ', mae_loss_nevera_LSMT_1)\n",
        "print('Mean absolute percentage error on the test set: ', mape_loss_nevera_LSMT_1)"
      ],
      "metadata": {
        "colab": {
          "base_uri": "https://localhost:8080/"
        },
        "outputId": "d8815ea7-1486-450c-d0e6-bba79beeec29",
        "id": "v5qyXC8dtcbo"
      },
      "execution_count": null,
      "outputs": [
        {
          "output_type": "stream",
          "name": "stdout",
          "text": [
            "Root mean square error on test set:  35.63782546592558\n",
            "Mean absolute error on the test set:  9.266368863295764\n",
            "Mean absolute percentage error on the test set:  0.11769583413647913\n"
          ]
        }
      ]
    },
    {
      "cell_type": "code",
      "source": [
        "def labeling_elec(y_train, tresh):\n",
        "    y_train_labeled = np.array([])\n",
        "    num_y_train = len(y_train)\n",
        "    for power_reading in range(num_y_train):\n",
        "        if y_train[power_reading] < tresh:\n",
        "            y_train_labeled = np.append(y_train_labeled,[0])\n",
        "        else:\n",
        "            y_train_labeled = np.append(y_train_labeled,[1])\n",
        "    return y_train_labeled"
      ],
      "metadata": {
        "id": "U66qT_SOtcbp"
      },
      "execution_count": null,
      "outputs": []
    },
    {
      "cell_type": "code",
      "source": [
        "from sklearn import metrics\n",
        "from sklearn.metrics import ConfusionMatrixDisplay\n",
        "from sklearn.metrics import confusion_matrix\n",
        "\n",
        "# Finding best tresh:\n",
        "def best_tresh(init, y_train, y_test, top_tresh):\n",
        "    test_tresh = init\n",
        "    best_f1_score = 0\n",
        "    f1_scores = []\n",
        "    test_treshs = []\n",
        "    while test_tresh < top_tresh:\n",
        "        y_pred_labeled = labeling_elec(y_train, test_tresh)\n",
        "        y_test_labeled = labeling_elec(y_test, test_tresh)\n",
        "        cm = confusion_matrix(y_test_labeled, y_pred_labeled)\n",
        "        TP = cm[1, 1]\n",
        "        TN = cm[0, 0]\n",
        "        FP = cm[0, 1]\n",
        "        FN = cm[1, 0]\n",
        "        C_accuracy = (TP + TN) / float(TP + TN + FP + FN)\n",
        "        C_error = (FP + FN) / float(TP + TN + FP + FN)\n",
        "        sensitivity = TP / float(FN + TP)\n",
        "        specifity = TN / (TN + FP)\n",
        "        fp_rate = FP / float(TN + FP)\n",
        "        precision = TP / float(TP + FP)\n",
        "        f1_score = 2*((sensitivity*precision)/(sensitivity+precision))\n",
        "        f1_scores.append(f1_score)\n",
        "        test_treshs.append(test_tresh)\n",
        "        if f1_score > best_f1_score:\n",
        "            best_f1_score = f1_score\n",
        "            best_tresh = test_tresh\n",
        "        test_tresh += 5\n",
        "    return best_f1_score, best_tresh, f1_scores, test_treshs"
      ],
      "metadata": {
        "id": "EtoTDutftcbp"
      },
      "execution_count": null,
      "outputs": []
    },
    {
      "cell_type": "code",
      "source": [
        "best_f1_score, best_tresh, f1_scores, test_treshs = best_tresh(20, pred_nevera_LSMT_1, y_test[:32000,2], 100)"
      ],
      "metadata": {
        "id": "Wo4HAoIytcbp"
      },
      "execution_count": null,
      "outputs": []
    },
    {
      "cell_type": "code",
      "source": [
        "print(best_f1_score)\n",
        "print(best_tresh)\n",
        "print(f1_scores)\n",
        "print(test_treshs)"
      ],
      "metadata": {
        "colab": {
          "base_uri": "https://localhost:8080/"
        },
        "outputId": "c9927daa-1a2b-4610-fb22-f3c4d0c83524",
        "id": "11o2U-c3tcbp"
      },
      "execution_count": null,
      "outputs": [
        {
          "output_type": "stream",
          "name": "stdout",
          "text": [
            "0.9665601981617885\n",
            "75\n",
            "[0.9336734693877552, 0.9364623642491574, 0.9383055937930171, 0.9389494797542937, 0.9397439116244037, 0.9408362150267212, 0.9448520111307868, 0.9445185891325071, 0.9458065337833536, 0.9588634162092348, 0.9647548445831707, 0.9665601981617885, 0.9600052624654651, 0.9605904837221563, 0.9619701571371979, 0.9612023305084746]\n",
            "[20, 25, 30, 35, 40, 45, 50, 55, 60, 65, 70, 75, 80, 85, 90, 95]\n"
          ]
        }
      ]
    },
    {
      "cell_type": "code",
      "source": [
        "y_pred_labeled = labeling_elec(pred_nevera_LSMT_1, 75)"
      ],
      "metadata": {
        "id": "-9Z2heEVtcbp"
      },
      "execution_count": null,
      "outputs": []
    },
    {
      "cell_type": "code",
      "source": [
        "y_test_labeled = labeling_elec(y_test[:32000,2], 75)"
      ],
      "metadata": {
        "id": "vF-zqHcgtcbp"
      },
      "execution_count": null,
      "outputs": []
    },
    {
      "cell_type": "code",
      "source": [
        "%config InlineBackend.figure_format ='retina'"
      ],
      "metadata": {
        "id": "XpsvGxTLH0QJ"
      },
      "execution_count": null,
      "outputs": []
    },
    {
      "cell_type": "code",
      "source": [
        "from sklearn import metrics\n",
        "from sklearn.metrics import ConfusionMatrixDisplay\n",
        "from sklearn.metrics import confusion_matrix\n",
        "import matplotlib.pyplot as plt\n",
        "import numpy as np\n",
        "\n",
        "labels = [\"Apagado\", \"Encendido\"]\n",
        "\n",
        "cm = confusion_matrix(y_test_labeled, y_pred_labeled)\n",
        "TP = cm[1, 1]\n",
        "TN = cm[0, 0]\n",
        "FP = cm[0, 1]\n",
        "FN = cm[1, 0]\n",
        "disp = ConfusionMatrixDisplay(confusion_matrix=cm, display_labels=labels)\n",
        "disp.plot(cmap=plt.cm.Blues)\n",
        "plt.rcParams['figure.dpi'] = 50\n",
        "plt.show()"
      ],
      "metadata": {
        "colab": {
          "base_uri": "https://localhost:8080/",
          "height": 382
        },
        "outputId": "628313de-6ea9-4cfa-b4d6-e4539f13df15",
        "id": "6hGbLC-etcbp"
      },
      "execution_count": null,
      "outputs": [
        {
          "output_type": "display_data",
          "data": {
            "text/plain": [
              "<Figure size 600x400 with 2 Axes>"
            ],
            "image/png": "[encoded data removed]"
          },
          "metadata": {
            "image/png": {
              "width": 516,
              "height": 365
            },
            "needs_background": "light"
          }
        }
      ]
    },
    {
      "cell_type": "code",
      "source": [
        "    fig = plt.figure()\n",
        "    plt.matshow(cm, cmap=plt.cm.Blues)\n",
        "    plt.title('Problem 1: Confusion Matrix Digit Recognition')\n",
        "    plt.colorbar()\n",
        "    plt.ylabel('True Label')\n",
        "    plt.xlabel('Predicated Label')"
      ],
      "metadata": {
        "colab": {
          "base_uri": "https://localhost:8080/",
          "height": 292
        },
        "id": "hbYREPADFHY5",
        "outputId": "bab2462e-0122-466f-8544-fbd53f48c3e5"
      },
      "execution_count": null,
      "outputs": [
        {
          "output_type": "execute_result",
          "data": {
            "text/plain": [
              "Text(0.5, 0, 'Predicated Label')"
            ]
          },
          "metadata": {},
          "execution_count": 75
        },
        {
          "output_type": "display_data",
          "data": {
            "text/plain": [
              "<Figure size 432x288 with 0 Axes>"
            ]
          },
          "metadata": {}
        },
        {
          "output_type": "display_data",
          "data": {
            "text/plain": [
              "<Figure size 288x288 with 2 Axes>"
            ],
            "image/png": "[encoded data removed]"
          },
          "metadata": {
            "needs_background": "light"
          }
        }
      ]
    },
    {
      "cell_type": "code",
      "source": [
        "fig = plt.figure()\n",
        "plt.matshow(cm)\n",
        "fig.savefig('/content/drive/Shareddrives/TG_NILM/00_Backend/Code_Backend/Plots_Collab/disp.png', dpi=400)"
      ],
      "metadata": {
        "colab": {
          "base_uri": "https://localhost:8080/",
          "height": 292
        },
        "id": "ULG3GtMaEINz",
        "outputId": "36a14ffb-d108-44a3-bb0b-4ee0c57a278d"
      },
      "execution_count": null,
      "outputs": [
        {
          "output_type": "display_data",
          "data": {
            "text/plain": [
              "<Figure size 432x288 with 0 Axes>"
            ]
          },
          "metadata": {}
        },
        {
          "output_type": "display_data",
          "data": {
            "text/plain": [
              "<Figure size 288x288 with 1 Axes>"
            ],
            "image/png": "[encoded data removed]"
          },
          "metadata": {
            "needs_background": "light"
          }
        }
      ]
    },
    {
      "cell_type": "code",
      "source": [
        "disp.savefig('/content/drive/Shareddrives/TG_NILM/00_Backend/Code_Backend/Plots_Collab/disp.png', dpi=400)"
      ],
      "metadata": {
        "colab": {
          "base_uri": "https://localhost:8080/",
          "height": 165
        },
        "id": "k2rr09eUD1Ya",
        "outputId": "5f00661f-4f1d-443f-9f70-af63fd312366"
      },
      "execution_count": null,
      "outputs": [
        {
          "output_type": "error",
          "ename": "AttributeError",
          "evalue": "ignored",
          "traceback": [
            "\u001b[0;31m---------------------------------------------------------------------------\u001b[0m",
            "\u001b[0;31mAttributeError\u001b[0m                            Traceback (most recent call last)",
            "\u001b[0;32m<ipython-input-66-687b29c63131>\u001b[0m in \u001b[0;36m<module>\u001b[0;34m()\u001b[0m\n\u001b[0;32m----> 1\u001b[0;31m \u001b[0mdisp\u001b[0m\u001b[0;34m.\u001b[0m\u001b[0msavefig\u001b[0m\u001b[0;34m(\u001b[0m\u001b[0;34m'/content/drive/Shareddrives/TG_NILM/00_Backend/Code_Backend/Plots_Collab/disp.png'\u001b[0m\u001b[0;34m,\u001b[0m \u001b[0mdpi\u001b[0m\u001b[0;34m=\u001b[0m\u001b[0;36m400\u001b[0m\u001b[0;34m)\u001b[0m\u001b[0;34m\u001b[0m\u001b[0;34m\u001b[0m\u001b[0m\n\u001b[0m",
            "\u001b[0;31mAttributeError\u001b[0m: 'ConfusionMatrixDisplay' object has no attribute 'savefig'"
          ]
        }
      ]
    },
    {
      "cell_type": "code",
      "source": [
        "C_accuracy = (TP + TN) / float(TP + TN + FP + FN)\n",
        "C_error = (FP + FN) / float(TP + TN + FP + FN)\n",
        "sensitivity = TP / float(FN + TP)\n",
        "specifity = TN / (TN + FP)\n",
        "fp_rate = FP / float(TN + FP)\n",
        "precision = TP / float(TP + FP)\n",
        "f1_score = 2*((sensitivity*precision)/(sensitivity+precision))\n",
        "print(\"Classification Accuracy:\", C_accuracy)\n",
        "print(\"Classification Error:\", C_error)\n",
        "print(\"Sensitivity:\", sensitivity)\n",
        "print(\"Specifity:\", specifity)\n",
        "print(\"False Positive Rate:\", fp_rate)\n",
        "print(\"Precision:\", precision)\n",
        "print(\"F1 Score:\", f1_score)"
      ],
      "metadata": {
        "colab": {
          "base_uri": "https://localhost:8080/"
        },
        "outputId": "7f490350-1dd3-4dcb-c877-32f2ef015e27",
        "id": "1BekDeqdtcbq"
      },
      "execution_count": null,
      "outputs": [
        {
          "output_type": "stream",
          "name": "stdout",
          "text": [
            "Classification Accuracy: 0.98396875\n",
            "Classification Error: 0.01603125\n",
            "Sensitivity: 0.9852491694352159\n",
            "Specifity: 0.9835750766087845\n",
            "False Positive Rate: 0.016424923391215526\n",
            "Precision: 0.9485670419651996\n",
            "F1 Score: 0.9665601981617885\n"
          ]
        }
      ]
    },
    {
      "cell_type": "markdown",
      "source": [
        ""
      ],
      "metadata": {
        "id": "WbmYiqh7UI3U"
      }
    },
    {
      "cell_type": "markdown",
      "source": [
        "# Model LSTM_2"
      ],
      "metadata": {
        "id": "aIfH3yZ7UJG5"
      }
    },
    {
      "cell_type": "markdown",
      "source": [
        "Características del modelo LSTM_1:\n",
        "\n",
        "\n",
        "*   TimeStep: 10.\n",
        "*   1ra Capa: 256 neuronas.\n",
        "*   2da Capa: 64 neuronas.\n",
        "*   Dropout: 0.2 en ambas capas.\n",
        "*   Función de activación: ReLU\n",
        "*   Adam lr: 0.0005.\n",
        "*   Batch_size: (N=800, L=1000, M=100).\n",
        "*   Epochs: 100.\n",
        "*   Validation split: 80-10-10.\n",
        "*   Loss: 'mean_squared_error'.\n",
        "*   Monitor metric: \"val_loss\"."
      ],
      "metadata": {
        "id": "sXqNKDVaUJG5"
      }
    },
    {
      "cell_type": "markdown",
      "source": [
        "## Nevera"
      ],
      "metadata": {
        "id": "m7GGZvp9UJG5"
      }
    },
    {
      "cell_type": "code",
      "source": [
        "nevera_LSTM_2 = Sequential()\n",
        "nevera_LSTM_2.add(LSTM(256, input_shape=(None, 2), activation='relu', return_sequences=True))\n",
        "nevera_LSTM_2.add(Dropout(0.225))\n",
        "nevera_LSTM_2.add(LSTM(64, activation='relu'))\n",
        "nevera_LSTM_2.add(Dropout(0.225))\n",
        "nevera_LSTM_2.add(Dense(1))\n",
        "nevera_LSTM_2.summary()"
      ],
      "metadata": {
        "colab": {
          "base_uri": "https://localhost:8080/"
        },
        "outputId": "1da108c3-d265-4568-9c30-c35a28b04d14",
        "id": "NJ4os92sUJG5"
      },
      "execution_count": null,
      "outputs": [
        {
          "output_type": "stream",
          "name": "stdout",
          "text": [
            "Model: \"sequential_4\"\n",
            "_________________________________________________________________\n",
            " Layer (type)                Output Shape              Param #   \n",
            "=================================================================\n",
            " lstm_8 (LSTM)               (None, None, 256)         265216    \n",
            "                                                                 \n",
            " dropout_8 (Dropout)         (None, None, 256)         0         \n",
            "                                                                 \n",
            " lstm_9 (LSTM)               (None, 64)                82176     \n",
            "                                                                 \n",
            " dropout_9 (Dropout)         (None, 64)                0         \n",
            "                                                                 \n",
            " dense_4 (Dense)             (None, 1)                 65        \n",
            "                                                                 \n",
            "=================================================================\n",
            "Total params: 347,457\n",
            "Trainable params: 347,457\n",
            "Non-trainable params: 0\n",
            "_________________________________________________________________\n"
          ]
        }
      ]
    },
    {
      "cell_type": "code",
      "source": [
        "start = time.time()\n",
        "adam = Adam(learning_rate=0.001)\n",
        "nevera_LSTM_2.compile(loss='mean_squared_error', optimizer=adam)\n",
        "# Con el checkpointer guardamos los hiperparametros que consiguen los mejores resultados en el set de validación.\n",
        "\n",
        "checkpointer = ModelCheckpoint(filepath=\"/content/drive/Shareddrives/TG_NILM/00_Backend/Code_Backend/Models/nevera_LSTM_2.hdf5\", monitor=\"val_loss\", verbose=0, save_best_only=True)\n",
        "hist_nevera_LSTM_2 = nevera_LSTM_2.fit(\n",
        "            X_train,\n",
        "            y_train[:,2],\n",
        "            batch_size=800,\n",
        "            verbose=1,\n",
        "            epochs=25,\n",
        "            validation_split=0.1,\n",
        "            callbacks=[checkpointer])\n",
        "print('Finish trainning. Time: ', time.time() - start)"
      ],
      "metadata": {
        "colab": {
          "base_uri": "https://localhost:8080/"
        },
        "outputId": "a8259a22-5975-4e22-eaf2-b8c0c56af7fa",
        "id": "Vv1wgiCvUJG6"
      },
      "execution_count": null,
      "outputs": [
        {
          "output_type": "stream",
          "name": "stdout",
          "text": [
            "Epoch 1/25\n",
            "344/344 [==============================] - 19s 41ms/step - loss: 3412.6714 - val_loss: 925.1632\n",
            "Epoch 2/25\n",
            "344/344 [==============================] - 15s 43ms/step - loss: 2235.4937 - val_loss: 824.2677\n",
            "Epoch 3/25\n",
            "344/344 [==============================] - 14s 40ms/step - loss: 1720.2030 - val_loss: 659.1941\n",
            "Epoch 4/25\n",
            "344/344 [==============================] - 13s 38ms/step - loss: 1625.6504 - val_loss: 749.5850\n",
            "Epoch 5/25\n",
            "344/344 [==============================] - 15s 42ms/step - loss: 1612.5781 - val_loss: 633.2925\n",
            "Epoch 6/25\n",
            "344/344 [==============================] - 13s 39ms/step - loss: 1677.6844 - val_loss: 694.2531\n",
            "Epoch 7/25\n",
            "344/344 [==============================] - 14s 41ms/step - loss: 1639.7754 - val_loss: 558.2487\n",
            "Epoch 8/25\n",
            "344/344 [==============================] - 13s 39ms/step - loss: 1756.3660 - val_loss: 691.2264\n",
            "Epoch 9/25\n",
            "344/344 [==============================] - 13s 39ms/step - loss: 1692.6580 - val_loss: 1308.6932\n",
            "Epoch 10/25\n",
            "344/344 [==============================] - 14s 41ms/step - loss: 1706.3912 - val_loss: 497.1945\n",
            "Epoch 11/25\n",
            "344/344 [==============================] - 13s 39ms/step - loss: 1600.9490 - val_loss: 636.5471\n",
            "Epoch 12/25\n",
            "344/344 [==============================] - 14s 40ms/step - loss: 1663.5551 - val_loss: 576.5339\n",
            "Epoch 13/25\n",
            "344/344 [==============================] - 13s 38ms/step - loss: 1615.5320 - val_loss: 955.5798\n",
            "Epoch 14/25\n",
            "344/344 [==============================] - 13s 38ms/step - loss: 1607.6675 - val_loss: 870.1746\n",
            "Epoch 15/25\n",
            "344/344 [==============================] - 14s 39ms/step - loss: 3079.4963 - val_loss: 5685.9707\n",
            "Epoch 16/25\n",
            "344/344 [==============================] - 13s 38ms/step - loss: 4171.2773 - val_loss: 1383.4457\n",
            "Epoch 17/25\n",
            "344/344 [==============================] - 13s 38ms/step - loss: 2071.3921 - val_loss: 935.7680\n",
            "Epoch 18/25\n",
            "344/344 [==============================] - 13s 38ms/step - loss: 1782.2107 - val_loss: 820.7819\n",
            "Epoch 19/25\n",
            "344/344 [==============================] - 14s 40ms/step - loss: 1647.0551 - val_loss: 587.0649\n",
            "Epoch 20/25\n",
            "344/344 [==============================] - 13s 38ms/step - loss: 1527.5254 - val_loss: 687.9183\n",
            "Epoch 21/25\n",
            "344/344 [==============================] - 14s 40ms/step - loss: 1538.7346 - val_loss: 518.4301\n",
            "Epoch 22/25\n",
            "344/344 [==============================] - 13s 38ms/step - loss: 1478.9601 - val_loss: 544.6360\n",
            "Epoch 23/25\n",
            "344/344 [==============================] - 13s 38ms/step - loss: 1526.7264 - val_loss: 516.7588\n",
            "Epoch 24/25\n",
            "344/344 [==============================] - 13s 38ms/step - loss: 1570.8040 - val_loss: 684.6184\n",
            "Epoch 25/25\n",
            "344/344 [==============================] - 13s 38ms/step - loss: 1542.2130 - val_loss: 514.7026\n",
            "Finish trainning. Time:  342.9961519241333\n"
          ]
        }
      ]
    },
    {
      "cell_type": "markdown",
      "source": [
        "### Validation with all the data."
      ],
      "metadata": {
        "id": "BEciTOUBUJG6"
      }
    },
    {
      "cell_type": "code",
      "source": [
        "load_nevera_LSTM_2 = load_model('/content/drive/Shareddrives/TG_NILM/00_Backend/Code_Backend/Models/nevera_LSTM_2.hdf5')\n",
        "t1_start = process_time() \n",
        "pred_nevera_LSTM_2 = load_nevera_LSTM_2.predict(X_test[:]).reshape(-1)\n",
        "t1_stop = process_time()\n",
        "print(pred_nevera_LSTM_2.shape)\n",
        "print(\"Elapsed time during the whole program in seconds:\",\n",
        "                                         t1_stop-t1_start) "
      ],
      "metadata": {
        "colab": {
          "base_uri": "https://localhost:8080/"
        },
        "outputId": "1b37887f-b5d1-4d4a-f736-3b285e531565",
        "id": "9tf4eQsXUJG6"
      },
      "execution_count": null,
      "outputs": [
        {
          "output_type": "stream",
          "name": "stderr",
          "text": [
            "WARNING:tensorflow:Layer lstm_2 will not use cuDNN kernels since it doesn't meet the criteria. It will use a generic GPU kernel as fallback when running on GPU.\n",
            "WARNING:tensorflow:Layer lstm_3 will not use cuDNN kernels since it doesn't meet the criteria. It will use a generic GPU kernel as fallback when running on GPU.\n"
          ]
        },
        {
          "output_type": "stream",
          "name": "stdout",
          "text": [
            "(101470,)\n",
            "Elapsed time during the whole program in seconds: 30.522713022\n"
          ]
        }
      ]
    },
    {
      "cell_type": "code",
      "source": [
        "power_reading_regression(pred_nevera_LSTM_2)"
      ],
      "metadata": {
        "colab": {
          "base_uri": "https://localhost:8080/"
        },
        "outputId": "a415e2f3-ab45-4c7d-bbe9-c5064da67495",
        "id": "92fzxC51UJG6"
      },
      "execution_count": null,
      "outputs": [
        {
          "output_type": "execute_result",
          "data": {
            "text/plain": [
              "1449"
            ]
          },
          "metadata": {},
          "execution_count": 16
        }
      ]
    },
    {
      "cell_type": "code",
      "source": [
        "def rmse_loss(y_predict, y):\n",
        "    return np.sqrt(np.mean(np.square(y_predict - y)))\n",
        "def mae_loss(y_predict, y):\n",
        "    return np.mean(np.abs(y_predict - y)) "
      ],
      "metadata": {
        "id": "NChrz0c9UJG6"
      },
      "execution_count": null,
      "outputs": []
    },
    {
      "cell_type": "code",
      "source": [
        "rmse_loss_nevera_LSTM_2 = rmse_loss(pred_nevera_LSTM_2, y_test[:,2])\n",
        "mae_loss_nevera_LSTM_2 = mae_loss(pred_nevera_LSTM_2, y_test[:,2])\n",
        "print('Root mean square error on test set: ', rmse_loss_nevera_LSTM_2)\n",
        "print('Mean absolute error on the test set: ', mae_loss_nevera_LSTM_2)"
      ],
      "metadata": {
        "colab": {
          "base_uri": "https://localhost:8080/"
        },
        "outputId": "38a3ac57-9031-4df2-afdf-d6ca0aedcd0f",
        "id": "SDVHN9p-UJG7"
      },
      "execution_count": null,
      "outputs": [
        {
          "output_type": "stream",
          "name": "stdout",
          "text": [
            "Root mean square error on test set:  1508.5135434110462\n",
            "Mean absolute error on the test set:  1391.5519343590588\n"
          ]
        }
      ]
    },
    {
      "cell_type": "code",
      "source": [
        "def labeling_elec(y_train, tresh):\n",
        "    y_train_labeled = np.array([])\n",
        "    num_y_train = len(y_train)\n",
        "    for power_reading in range(num_y_train):\n",
        "        if y_train[power_reading] < tresh:\n",
        "            y_train_labeled = np.append(y_train_labeled,[0])\n",
        "        else:\n",
        "            y_train_labeled = np.append(y_train_labeled,[1])\n",
        "    return y_train_labeled"
      ],
      "metadata": {
        "id": "M70RgqRxUJG7"
      },
      "execution_count": null,
      "outputs": []
    },
    {
      "cell_type": "code",
      "source": [
        "from sklearn import metrics\n",
        "from sklearn.metrics import ConfusionMatrixDisplay\n",
        "from sklearn.metrics import confusion_matrix\n",
        "\n",
        "# Finding best tresh:\n",
        "def best_tresh(init, y_train, top_tresh):\n",
        "    test_tresh = init\n",
        "    best_f1_score = 0\n",
        "    f1_scores = []\n",
        "    test_treshs = []\n",
        "    while test_tresh < top_tresh:\n",
        "        y_pred_labeled = labeling_elec(y_train, test_tresh)\n",
        "        y_test_labeled = labeling_elec(y_test[:,2], test_tresh)\n",
        "        cm = confusion_matrix(y_test_labeled, y_pred_labeled)\n",
        "        TP = cm[1, 1]\n",
        "        TN = cm[0, 0]\n",
        "        FP = cm[0, 1]\n",
        "        FN = cm[1, 0]\n",
        "        C_accuracy = (TP + TN) / float(TP + TN + FP + FN)\n",
        "        C_error = (FP + FN) / float(TP + TN + FP + FN)\n",
        "        sensitivity = TP / float(FN + TP)\n",
        "        specifity = TN / (TN + FP)\n",
        "        fp_rate = FP / float(TN + FP)\n",
        "        precision = TP / float(TP + FP)\n",
        "        f1_score = 2*((sensitivity*precision)/(sensitivity+precision))\n",
        "        f1_scores.append(f1_score)\n",
        "        test_treshs.append(test_tresh)\n",
        "        if f1_score > best_f1_score:\n",
        "            best_f1_score = f1_score\n",
        "            best_tresh = test_tresh\n",
        "        test_tresh += 5\n",
        "    return best_f1_score, best_tresh, f1_scores, test_treshs"
      ],
      "metadata": {
        "id": "VaaGwaitUJG7"
      },
      "execution_count": null,
      "outputs": []
    },
    {
      "cell_type": "code",
      "source": [
        "best_f1_score, best_tresh, f1_scores, test_treshs = best_tresh(20, pred_nevera_LSTM_2, 100)"
      ],
      "metadata": {
        "id": "S0vpqB7PUJG7"
      },
      "execution_count": null,
      "outputs": []
    },
    {
      "cell_type": "code",
      "source": [
        "print(best_f1_score)\n",
        "print(best_tresh)\n",
        "print(f1_scores)\n",
        "print(test_treshs)"
      ],
      "metadata": {
        "colab": {
          "base_uri": "https://localhost:8080/"
        },
        "outputId": "a621ed89-0651-4185-8c0e-ef4ea77dd102",
        "id": "TsuBXkYNUJG7"
      },
      "execution_count": null,
      "outputs": [
        {
          "output_type": "stream",
          "name": "stdout",
          "text": [
            "0.42238584324000716\n",
            "30\n",
            "[0.42236855403608886, 0.4223727074116979, 0.42238584324000716, 0.4223613108890876, 0.42233677777518597, 0.42180913121256897, 0.4131733717074392, 0.413177118365687, 0.4131803499221788, 0.4131808653755905, 0.4131786644556213, 0.41320827042376923, 0.41322171804099517, 0.41321305344526765, 0.4132324520566166, 0.4132237871674492]\n",
            "[20, 25, 30, 35, 40, 45, 50, 55, 60, 65, 70, 75, 80, 85, 90, 95]\n"
          ]
        }
      ]
    },
    {
      "cell_type": "markdown",
      "source": [
        "Nota: Se escogió 20 como umbral."
      ],
      "metadata": {
        "id": "MUgIvQnDX7om"
      }
    },
    {
      "cell_type": "code",
      "source": [
        "y_pred_labeled = labeling_elec(pred_nevera_LSTM_2, 95)"
      ],
      "metadata": {
        "id": "e7oeb-KpUJG8"
      },
      "execution_count": null,
      "outputs": []
    },
    {
      "cell_type": "code",
      "source": [
        "y_test_labeled = labeling_elec(y_test[:,2], 95)"
      ],
      "metadata": {
        "id": "K1_dSlhNUJG8"
      },
      "execution_count": null,
      "outputs": []
    },
    {
      "cell_type": "code",
      "source": [
        "from sklearn import metrics\n",
        "from sklearn.metrics import ConfusionMatrixDisplay\n",
        "from sklearn.metrics import confusion_matrix\n",
        "import matplotlib.pyplot as plt\n",
        "import numpy as np\n",
        "\n",
        "labels = [\"Apagado\", \"Encendido\"]\n",
        "\n",
        "cm = confusion_matrix(y_test_labeled, y_pred_labeled)\n",
        "TP = cm[1, 1]\n",
        "TN = cm[0, 0]\n",
        "FP = cm[0, 1]\n",
        "FN = cm[1, 0]\n",
        "disp = ConfusionMatrixDisplay(confusion_matrix=cm, display_labels=labels)\n",
        "disp.plot(cmap=plt.cm.Blues)\n",
        "plt.show()"
      ],
      "metadata": {
        "colab": {
          "base_uri": "https://localhost:8080/",
          "height": 279
        },
        "outputId": "bf08475b-f672-4e26-99e1-ec2f1249a88c",
        "id": "C_TtqUaAUJG8"
      },
      "execution_count": null,
      "outputs": [
        {
          "output_type": "display_data",
          "data": {
            "text/plain": [
              "<Figure size 432x288 with 2 Axes>"
            ],
            "image/png": "[encoded data removed]"
          },
          "metadata": {
            "needs_background": "light"
          }
        }
      ]
    },
    {
      "cell_type": "code",
      "source": [
        "C_accuracy = (TP + TN) / float(TP + TN + FP + FN)\n",
        "C_error = (FP + FN) / float(TP + TN + FP + FN)\n",
        "sensitivity = TP / float(FN + TP)\n",
        "specifity = TN / (TN + FP)\n",
        "fp_rate = FP / float(TN + FP)\n",
        "precision = TP / float(TP + FP)\n",
        "f1_score = 2*((sensitivity*precision)/(sensitivity+precision))\n",
        "print(\"Classification Accuracy:\", C_accuracy)\n",
        "print(\"Classification Error:\", C_error)\n",
        "print(\"Sensitivity:\", sensitivity)\n",
        "print(\"Specifity:\", specifity)\n",
        "print(\"False Positive Rate:\", fp_rate)\n",
        "print(\"Precision:\", precision)\n",
        "print(\"F1 Score:\", f1_score)"
      ],
      "metadata": {
        "colab": {
          "base_uri": "https://localhost:8080/"
        },
        "outputId": "1354cb61-89e4-4e20-f149-21df34b00a44",
        "id": "BhIqhv_JUJG8"
      },
      "execution_count": null,
      "outputs": [
        {
          "output_type": "stream",
          "name": "stdout",
          "text": [
            "Classification Accuracy: 0.9636718249785754\n",
            "Classification Error: 0.03632817502142456\n",
            "Sensitivity: 0.9780817887614004\n",
            "Specifity: 0.9584000430529955\n",
            "False Positive Rate: 0.041599956947004454\n",
            "Precision: 0.8958501751549448\n",
            "F1 Score: 0.9351617440225035\n"
          ]
        }
      ]
    },
    {
      "cell_type": "markdown",
      "source": [
        "### Validation with 40 examples."
      ],
      "metadata": {
        "id": "J2P-e1NWUJG8"
      }
    },
    {
      "cell_type": "code",
      "source": [
        "load_nevera_LSTM_2 = load_model('/content/drive/Shareddrives/TG_NILM/00_Backend/Code_Backend/Models/nevera_LSTM_2.hdf5')\n",
        "t1_start = process_time() \n",
        "pred_nevera_LSTM_2 = load_nevera_LSTM_2.predict(X_test[:32000], batch_size = 800).reshape(-1)\n",
        "t1_stop = process_time()\n",
        "print(pred_nevera_LSTM_2.shape)\n",
        "print(\"Elapsed time during the whole program in seconds:\",\n",
        "                                         t1_stop-t1_start) "
      ],
      "metadata": {
        "colab": {
          "base_uri": "https://localhost:8080/"
        },
        "outputId": "1c02cba7-40b4-4d49-bdcd-1bdd0cb20cc1",
        "id": "tptDblENUJG8"
      },
      "execution_count": null,
      "outputs": [
        {
          "output_type": "stream",
          "name": "stdout",
          "text": [
            "WARNING:tensorflow:Layer lstm_8 will not use cuDNN kernels since it doesn't meet the criteria. It will use a generic GPU kernel as fallback when running on GPU.\n"
          ]
        },
        {
          "output_type": "stream",
          "name": "stderr",
          "text": [
            "WARNING:tensorflow:Layer lstm_8 will not use cuDNN kernels since it doesn't meet the criteria. It will use a generic GPU kernel as fallback when running on GPU.\n"
          ]
        },
        {
          "output_type": "stream",
          "name": "stdout",
          "text": [
            "WARNING:tensorflow:Layer lstm_9 will not use cuDNN kernels since it doesn't meet the criteria. It will use a generic GPU kernel as fallback when running on GPU.\n"
          ]
        },
        {
          "output_type": "stream",
          "name": "stderr",
          "text": [
            "WARNING:tensorflow:Layer lstm_9 will not use cuDNN kernels since it doesn't meet the criteria. It will use a generic GPU kernel as fallback when running on GPU.\n"
          ]
        },
        {
          "output_type": "stream",
          "name": "stdout",
          "text": [
            "(32000,)\n",
            "Elapsed time during the whole program in seconds: 0.7160929879996729\n"
          ]
        }
      ]
    },
    {
      "cell_type": "code",
      "source": [
        "power_reading_regression(pred_nevera_LSTM_2)"
      ],
      "metadata": {
        "colab": {
          "base_uri": "https://localhost:8080/"
        },
        "outputId": "706afb04-92cf-4069-ef7a-f090963dc352",
        "id": "qeihIJgiUJG9"
      },
      "execution_count": null,
      "outputs": [
        {
          "output_type": "execute_result",
          "data": {
            "text/plain": [
              "51"
            ]
          },
          "metadata": {},
          "execution_count": 68
        }
      ]
    },
    {
      "cell_type": "code",
      "source": [
        "def rmse_loss(y_predict, y):\n",
        "    return np.sqrt(np.mean(np.square(y_predict - y)))\n",
        "def mae_loss(y_predict, y):\n",
        "    return np.mean(np.abs(y_predict - y)) "
      ],
      "metadata": {
        "id": "7grrVrJeUJG9"
      },
      "execution_count": null,
      "outputs": []
    },
    {
      "cell_type": "code",
      "source": [
        "def NoZeros_Fn(True_Values, predicted_Values):\n",
        "    True_Values_NoZeros = []\n",
        "    predicted_Values_NoZeros = []\n",
        "    for i in range(len(True_Values)):\n",
        "        if True_Values[i] > 10:\n",
        "            True_Values_NoZeros.append(True_Values[i])\n",
        "            predicted_Values_NoZeros.append(predicted_Values[i])\n",
        "    return True_Values_NoZeros, predicted_Values_NoZeros"
      ],
      "metadata": {
        "id": "mfTk-_MYUJG9"
      },
      "execution_count": null,
      "outputs": []
    },
    {
      "cell_type": "code",
      "source": [
        "True_Values_NoZeros, predicted_Values_NoZeros = NoZeros_Fn(y_test[:32000,2], pred_nevera_LSTM_2)"
      ],
      "metadata": {
        "id": "Um3LvPKgUJG9"
      },
      "execution_count": null,
      "outputs": []
    },
    {
      "cell_type": "code",
      "source": [
        "rmse_loss_nevera_LSTM_2 = rmse_loss(pred_nevera_LSTM_2, y_test[:32000,2])\n",
        "mae_loss_nevera_LSTM_2 = mae_loss(pred_nevera_LSTM_2, y_test[:32000,2])\n",
        "mape_loss_nevera_LSTM_2 = mean_absolute_percentage_error(True_Values_NoZeros, predicted_Values_NoZeros)\n",
        "print('Root mean square error on test set: ', rmse_loss_nevera_LSTM_2)\n",
        "print('Mean absolute error on the test set: ', mae_loss_nevera_LSTM_2)\n",
        "print('Mean absolute percentage error on the test set: ', mape_loss_nevera_LSTM_2)"
      ],
      "metadata": {
        "colab": {
          "base_uri": "https://localhost:8080/"
        },
        "outputId": "5f353201-7ddc-44a5-cbd3-bc8b09c26764",
        "id": "cQZk54DzUJG9"
      },
      "execution_count": null,
      "outputs": [
        {
          "output_type": "stream",
          "name": "stdout",
          "text": [
            "Root mean square error on test set:  32.29077898036751\n",
            "Mean absolute error on the test set:  6.827448520995676\n",
            "Mean absolute percentage error on the test set:  0.0855790597186892\n"
          ]
        }
      ]
    },
    {
      "cell_type": "code",
      "source": [
        "def labeling_elec(y_train, tresh):\n",
        "    y_train_labeled = np.array([])\n",
        "    num_y_train = len(y_train)\n",
        "    for power_reading in range(num_y_train):\n",
        "        if y_train[power_reading] < tresh:\n",
        "            y_train_labeled = np.append(y_train_labeled,[0])\n",
        "        else:\n",
        "            y_train_labeled = np.append(y_train_labeled,[1])\n",
        "    return y_train_labeled"
      ],
      "metadata": {
        "id": "lGYx2n4_UJG9"
      },
      "execution_count": null,
      "outputs": []
    },
    {
      "cell_type": "code",
      "source": [
        "from sklearn import metrics\n",
        "from sklearn.metrics import ConfusionMatrixDisplay\n",
        "from sklearn.metrics import confusion_matrix\n",
        "\n",
        "# Finding best tresh:\n",
        "def best_tresh(init, y_train, y_test, top_tresh):\n",
        "    test_tresh = init\n",
        "    best_f1_score = 0\n",
        "    f1_scores = []\n",
        "    test_treshs = []\n",
        "    while test_tresh < top_tresh:\n",
        "        y_pred_labeled = labeling_elec(y_train, test_tresh)\n",
        "        y_test_labeled = labeling_elec(y_test, test_tresh)\n",
        "        cm = confusion_matrix(y_test_labeled, y_pred_labeled)\n",
        "        TP = cm[1, 1]\n",
        "        TN = cm[0, 0]\n",
        "        FP = cm[0, 1]\n",
        "        FN = cm[1, 0]\n",
        "        C_accuracy = (TP + TN) / float(TP + TN + FP + FN)\n",
        "        C_error = (FP + FN) / float(TP + TN + FP + FN)\n",
        "        sensitivity = TP / float(FN + TP)\n",
        "        specifity = TN / (TN + FP)\n",
        "        fp_rate = FP / float(TN + FP)\n",
        "        precision = TP / float(TP + FP)\n",
        "        f1_score = 2*((sensitivity*precision)/(sensitivity+precision))\n",
        "        f1_scores.append(f1_score)\n",
        "        test_treshs.append(test_tresh)\n",
        "        if f1_score > best_f1_score:\n",
        "            best_f1_score = f1_score\n",
        "            best_tresh = test_tresh\n",
        "        test_tresh += 5\n",
        "    return best_f1_score, best_tresh, f1_scores, test_treshs"
      ],
      "metadata": {
        "id": "-Rb3znqXUJG-"
      },
      "execution_count": null,
      "outputs": []
    },
    {
      "cell_type": "code",
      "source": [
        "best_f1_score, best_tresh, f1_scores, test_treshs = best_tresh(20, pred_nevera_LSTM_2, y_test[:32000,2], 100)"
      ],
      "metadata": {
        "id": "zLw-v5UgUJG-"
      },
      "execution_count": null,
      "outputs": []
    },
    {
      "cell_type": "code",
      "source": [
        "print(best_f1_score)\n",
        "print(best_tresh)\n",
        "print(f1_scores)\n",
        "print(test_treshs)"
      ],
      "metadata": {
        "colab": {
          "base_uri": "https://localhost:8080/"
        },
        "outputId": "c00f2737-3473-4d99-e72e-eda7f01f654c",
        "id": "gzcktbSxUJG-"
      },
      "execution_count": null,
      "outputs": [
        {
          "output_type": "stream",
          "name": "stdout",
          "text": [
            "0.978232362968791\n",
            "80\n",
            "[0.9480781348456206, 0.9489686494669779, 0.9495077000757383, 0.9510082811808585, 0.9514771936483837, 0.9536491027835902, 0.9557070932381619, 0.9542140938738969, 0.955436035343834, 0.9737030995106036, 0.9755491631799162, 0.9775943396226415, 0.978232362968791, 0.969893469198703, 0.9699576495500265, 0.9703389830508475]\n",
            "[20, 25, 30, 35, 40, 45, 50, 55, 60, 65, 70, 75, 80, 85, 90, 95]\n"
          ]
        }
      ]
    },
    {
      "cell_type": "code",
      "source": [
        "y_pred_labeled = labeling_elec(pred_nevera_LSTM_2, 80)"
      ],
      "metadata": {
        "id": "l-ss36bdUJG-"
      },
      "execution_count": null,
      "outputs": []
    },
    {
      "cell_type": "code",
      "source": [
        "y_test_labeled = labeling_elec(y_test[:32000,2], 80)"
      ],
      "metadata": {
        "id": "DbGOshAwUJG-"
      },
      "execution_count": null,
      "outputs": []
    },
    {
      "cell_type": "code",
      "source": [
        "from sklearn import metrics\n",
        "from sklearn.metrics import ConfusionMatrixDisplay\n",
        "from sklearn.metrics import confusion_matrix\n",
        "import matplotlib.pyplot as plt\n",
        "import numpy as np\n",
        "\n",
        "labels = [\"Apagado\", \"Encendido\"]\n",
        "\n",
        "cm = confusion_matrix(y_test_labeled, y_pred_labeled)\n",
        "TP = cm[1, 1]\n",
        "TN = cm[0, 0]\n",
        "FP = cm[0, 1]\n",
        "FN = cm[1, 0]\n",
        "disp = ConfusionMatrixDisplay(confusion_matrix=cm, display_labels=labels)\n",
        "disp.plot(cmap=plt.cm.Blues)\n",
        "plt.show()"
      ],
      "metadata": {
        "colab": {
          "base_uri": "https://localhost:8080/",
          "height": 382
        },
        "outputId": "ae717c85-f077-483c-cc35-a22b9151a143",
        "id": "F2qLsYfHUJG-"
      },
      "execution_count": null,
      "outputs": [
        {
          "output_type": "display_data",
          "data": {
            "text/plain": [
              "<Figure size 600x400 with 2 Axes>"
            ],
            "image/png": "[encoded data removed]"
          },
          "metadata": {
            "image/png": {
              "width": 516,
              "height": 365
            },
            "needs_background": "light"
          }
        }
      ]
    }
  ]
}